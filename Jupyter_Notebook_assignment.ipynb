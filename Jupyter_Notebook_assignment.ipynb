{
 "cells": [
  {
   "cell_type": "markdown",
   "metadata": {},
   "source": [
    "<center>\n",
    "    <img src=\"https://cf-courses-data.s3.us.cloud-object-storage.appdomain.cloud/IBMDeveloperSkillsNetwork-DS0105EN-SkillsNetwork/labs/Module2/images/SN_web_lightmode.png\" width=\"300\" alt=\"cognitiveclass.ai logo\">\n",
    "</center>\n"
   ]
  },
  {
   "cell_type": "markdown",
   "metadata": {},
   "source": [
    "#### Add your code below following the instructions given in the course\n"
   ]
  },
  {
   "cell_type": "markdown",
   "metadata": {},
   "source": [
    "# My Jupyter Notebook on IBM Watson Studio"
   ]
  },
  {
   "cell_type": "markdown",
   "metadata": {},
   "source": [
    "**Bhupendra Chundawat , Computer Engineer**"
   ]
  },
  {
   "cell_type": "markdown",
   "metadata": {},
   "source": [
    "_List of Data science languages._\n",
    "1. python\n",
    "2. sql\n",
    "3. R\n",
    "4. Julia \n",
    "5. JavaScript\n",
    "6. Java\n",
    "7. C/C++"
   ]
  },
  {
   "cell_type": "markdown",
   "metadata": {},
   "source": [
    "_List of Data science libraries._\n",
    "1. Scikit-learn\n",
    "2. Tensorflow \n",
    "3. pyTorch\n",
    "4. Theano"
   ]
  },
  {
   "cell_type": "markdown",
   "metadata": {},
   "source": [
    "_Tools for Data Science_\n",
    "1. Apache Spark\n",
    "2. SAS\n",
    "3.  BigML\n",
    "4. D3.js\n",
    "5. MATLAB\n"
   ]
  },
  {
   "cell_type": "markdown",
   "metadata": {},
   "source": [
    "**Arthematic expression example(1+1 =2)**"
   ]
  },
  {
   "cell_type": "markdown",
   "metadata": {},
   "source": [
    "### code for multiplying two numbers and adding two numbers"
   ]
  },
  {
   "cell_type": "code",
   "execution_count": 6,
   "metadata": {},
   "outputs": [
    {
     "name": "stdout",
     "output_type": "stream",
     "text": [
      "20\n",
      "9\n"
     ]
    }
   ],
   "source": [
    "def multiplyFn(a,b):\n",
    "    return a*b\n",
    "def addingNum(a,b):\n",
    "    return a+b\n",
    "print(multiplyFn(5,4))\n",
    "print(addingNum(5,4))"
   ]
  },
  {
   "cell_type": "markdown",
   "metadata": {},
   "source": [
    "### code for converting  minutes to hours"
   ]
  },
  {
   "cell_type": "code",
   "execution_count": 13,
   "metadata": {},
   "outputs": [
    {
     "name": "stdout",
     "output_type": "stream",
     "text": [
      "2\n"
     ]
    }
   ],
   "source": [
    "def convertMinutes(h):\n",
    "    return h//60\n",
    "print(convertMinutes(120))"
   ]
  },
  {
   "cell_type": "markdown",
   "metadata": {},
   "source": [
    "_Objective_\n",
    "1. Get familiar with jupyter notebook\n",
    "2. Learn to code and use markdown to specify the information.\n",
    "3. Use notebook as advantage to extract valuable information "
   ]
  },
  {
   "cell_type": "markdown",
   "metadata": {},
   "source": [
    "## Author:Bhupendra"
   ]
  },
  {
   "cell_type": "markdown",
   "metadata": {},
   "source": [
    "[this is a link to Github](https://github.com/Bhupendra2811/Ds)"
   ]
  },
  {
   "cell_type": "markdown",
   "metadata": {},
   "source": [
    "1. item one\n",
    "2. item two\n",
    "3. item three"
   ]
  },
  {
   "cell_type": "markdown",
   "metadata": {},
   "source": [
    "| name | occupation |\n",
    "|------|------------|\n",
    "|Bhupendra | Software Engineer |"
   ]
  },
  {
   "cell_type": "code",
   "execution_count": null,
   "metadata": {},
   "outputs": [],
   "source": []
  }
 ],
 "metadata": {
  "kernelspec": {
   "display_name": "Python",
   "language": "python",
   "name": "conda-env-python-py"
  },
  "language_info": {
   "codemirror_mode": {
    "name": "ipython",
    "version": 3
   },
   "file_extension": ".py",
   "mimetype": "text/x-python",
   "name": "python",
   "nbconvert_exporter": "python",
   "pygments_lexer": "ipython3",
   "version": "3.7.12"
  }
 },
 "nbformat": 4,
 "nbformat_minor": 4
}
